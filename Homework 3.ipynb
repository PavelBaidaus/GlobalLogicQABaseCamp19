{
 "cells": [
  {
   "cell_type": "code",
   "execution_count": null,
   "metadata": {},
   "outputs": [],
   "source": [
    "from selenium import webdriver\n",
    "from selenium.webdriver.support.ui import WebDriverWait\n",
    "from selenium.webdriver.common.by import By\n",
    "from selenium.webdriver.support import expected_conditions as EC\n",
    "from selenium.webdriver.support.ui import Select\n",
    "\n",
    "#Test case GL-835:F-140, F-150 Check unique name for Folder  name\n",
    "\n",
    "\n",
    "@pytest.fixture(scope=\"session\")\n",
    "def before():\n",
    "    global driver\n",
    "    driver = webdriver.Chrome(executable_path=r'C:/Webdrivers/chromedriver_win32/chromedriver')\n",
    "    driver.get('https://anotepad.com/')\n",
    "    yield\n",
    "    driver.close()\n",
    "\n",
    "def registration(before):\n",
    "\n",
    "    driver.find_element_by_link_text('Register/Login').click()\n",
    "    driver.find_element_by_id('loginEmail').send_keys('jungleman@inet.ua')\n",
    "    driver.find_element_by_css_selector('input[placeholder= \"Enter Password\"]').send_keys('qwerty+1234')\n",
    "    driver.find_element_by_xpath('//button[contains(.,\"Login\")]').click()\n",
    "    \n",
    "    assert driver.find_element_by_link_text('Logout').text, \"First message verification failed\"\n",
    "    print(\"1. Passed\")\n",
    "    \n",
    "def first folder creation()\n",
    "    driver.find_element_by_link_text('Manage Folders').click()\n",
    "    WebDriverWait(driver, 5).until(EC.visibility_of_element_located((By.ID, 'myModalLabel')))\n",
    "\n",
    "    driver.find_element_by_css_selector('input[placeholder= \"Folder Name\"]').send_keys('My First Folder')\n",
    "    driver.find_element_by_css_selector('input[value= \"Create New\"]').click()\n",
    "    \n",
    "def second folder creation()\n",
    "    driver.find_element_by_link_text('Manage Folders').click()\n",
    "    WebDriverWait(driver, 5).until(EC.visibility_of_element_located((By.ID, 'myModalLabel')))\n",
    "\n",
    "    driver.find_element_by_css_selector('input[placeholder= \"Folder Name\"]').send_keys('My First Folder')\n",
    "    driver.find_element_by_css_selector('input[value= \"Create New\"]').click()\n",
    " \n",
    " def check unique folder()\n",
    "count = len( driver.find_element_by_link_text('My First Folder'))\n",
    "if count > 1\n",
    "    print(\"2. Fail\")\n",
    "else:\n",
    "    print(\"2. Passed\")\n",
    "    \n",
    "    \n",
    "before()\n",
    "registration()\n",
    "first folder creation()\n",
    "check unique folder()"
   ]
  },
  {
   "cell_type": "code",
   "execution_count": null,
   "metadata": {},
   "outputs": [],
   "source": []
  }
 ],
 "metadata": {
  "kernelspec": {
   "display_name": "Python 3",
   "language": "python",
   "name": "python3"
  },
  "language_info": {
   "codemirror_mode": {
    "name": "ipython",
    "version": 3
   },
   "file_extension": ".py",
   "mimetype": "text/x-python",
   "name": "python",
   "nbconvert_exporter": "python",
   "pygments_lexer": "ipython3",
   "version": "3.6.5"
  }
 },
 "nbformat": 4,
 "nbformat_minor": 2
}
