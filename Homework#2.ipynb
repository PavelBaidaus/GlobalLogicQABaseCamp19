{
 "cells": [
  {
   "cell_type": "code",
   "execution_count": 2,
   "metadata": {},
   "outputs": [
    {
     "name": "stdout",
     "output_type": "stream",
     "text": [
      "1. Passed\n"
     ]
    },
    {
     "name": "stderr",
     "output_type": "stream",
     "text": [
      "C:\\Users\\User\\Anaconda3\\lib\\site-packages\\ipykernel_launcher.py:25: DeprecationWarning: use driver.switch_to.alert instead\n"
     ]
    },
    {
     "name": "stdout",
     "output_type": "stream",
     "text": [
      "2. Passed\n"
     ]
    }
   ],
   "source": [
    "from selenium import webdriver\n",
    "from selenium.webdriver.support.ui import WebDriverWait\n",
    "from selenium.webdriver.common.by import By\n",
    "from selenium.webdriver.support import expected_conditions as EC\n",
    "from selenium import webdriver\n",
    "\n",
    "\n",
    "def Homework2():\n",
    "\n",
    "    driver = webdriver.Chrome(executable_path=r'C:/Webdrivers/chromedriver_win32/chromedriver')\n",
    "    driver.get(\"https://anotepad.com/\")    \n",
    "                \n",
    "    driver.find_element_by_id('edit_title').send_keys(\"My First Note\")\n",
    "    driver.find_element_by_id('btnSaveNote').click()\n",
    "    WebDriverWait(driver, 5).until(EC.visibility_of_element_located((By.XPATH, '/html/body/div[2]/div/p[1]')))\n",
    "\n",
    "    # check message - save note as a GuestUser\n",
    "    assert driver.find_element_by_xpath(\"//p[@class = 'alert alert-warning']\").text, \"First message verification failed\"\n",
    "    print(\"1. Passed\")\n",
    "\n",
    "    driver.find_element_by_class_name('delete').click()\n",
    "\n",
    "   \n",
    "    WebDriverWait(driver, 10).until(EC.alert_is_present())\n",
    "    del_alert = driver.switch_to_alert()\n",
    "    del_alert.accept()\n",
    " \n",
    "\n",
    "    # check message \"No notes here\" \n",
    "    assert driver.find_element_by_class_name('saved_notes').text == 'No note here.', \"Second message verification failed\"\n",
    "    print(\"2. Passed\")\n",
    "\n",
    "    driver.quit()\n",
    "\n",
    "    \n",
    "Homework2()"
   ]
  },
  {
   "cell_type": "code",
   "execution_count": null,
   "metadata": {},
   "outputs": [],
   "source": []
  }
 ],
 "metadata": {
  "kernelspec": {
   "display_name": "Python 3",
   "language": "python",
   "name": "python3"
  },
  "language_info": {
   "codemirror_mode": {
    "name": "ipython",
    "version": 3
   },
   "file_extension": ".py",
   "mimetype": "text/x-python",
   "name": "python",
   "nbconvert_exporter": "python",
   "pygments_lexer": "ipython3",
   "version": "3.6.5"
  }
 },
 "nbformat": 4,
 "nbformat_minor": 2
}
