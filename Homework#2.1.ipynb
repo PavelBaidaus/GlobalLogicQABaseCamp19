{
 "cells": [
  {
   "cell_type": "code",
   "execution_count": 2,
   "metadata": {},
   "outputs": [],
   "source": [
    "import pytest\n",
    "from selenium import webdriver\n",
    "from selenium.webdriver import Chrome\n",
    "from selenium.webdriver.support.ui import WebDriverWait\n",
    "from selenium.webdriver.common.by import By\n",
    "from selenium.webdriver.support import expected_conditions as EC\n",
    "\n",
    "\n",
    "@pytest.fixture(scope=\"session\")\n",
    "def before():\n",
    "    global driver\n",
    "    driver = webdriver.Chrome(executable_path=r'C:/Webdrivers/chromedriver_win32/chromedriver')\n",
    "    driver.get('https://anotepad.com/')\n",
    "    yield\n",
    "    driver.close()\n",
    "\n",
    "\n",
    "def Homework2(before):\n",
    "                \n",
    "    driver.find_element_by_id('edit_title').send_keys(\"My First Note\")\n",
    "    driver.find_element_by_id('btnSaveNote').click()\n",
    "    WebDriverWait(driver, 5).until(EC.visibility_of_element_located((By.XPATH, '/html/body/div[2]/div/p[1]')))\n",
    "\n",
    "    # check message - save note as a GuestUser\n",
    "    assert driver.find_element_by_xpath(\"//p[@class = 'alert alert-warning']\").text, \"First message verification failed\"\n",
    "    print(\"1. Passed\")\n",
    "\n",
    "    driver.find_element_by_class_name('delete').click()\n",
    "   \n",
    "    WebDriverWait(driver, 10).until(EC.alert_is_present())\n",
    "    del_alert = driver.switch_to_alert()\n",
    "    del_alert.accept()\n",
    " \n",
    "\n",
    "    # check message \"No notes here\" \n",
    "    assert driver.find_element_by_class_name('saved_notes').text == 'No note here.', \"Second message verification failed\"\n",
    "    print(\"2. Passed\")"
   ]
  },
  {
   "cell_type": "code",
   "execution_count": null,
   "metadata": {},
   "outputs": [],
   "source": []
  }
 ],
 "metadata": {
  "kernelspec": {
   "display_name": "Python 3",
   "language": "python",
   "name": "python3"
  },
  "language_info": {
   "codemirror_mode": {
    "name": "ipython",
    "version": 3
   },
   "file_extension": ".py",
   "mimetype": "text/x-python",
   "name": "python",
   "nbconvert_exporter": "python",
   "pygments_lexer": "ipython3",
   "version": "3.6.5"
  }
 },
 "nbformat": 4,
 "nbformat_minor": 2
}
